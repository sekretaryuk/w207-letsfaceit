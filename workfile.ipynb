{
 "cells": [
  {
   "attachments": {},
   "cell_type": "markdown",
   "metadata": {},
   "source": [
    "# Let's Face It \n",
    "\n",
    "**Team Members:** Georgiy Sekretaryuk, Rafael Arbex-Murut, Yeshwanth Somu\n",
    "\n",
    "**Data Set:** Facial Recognition Dataset\n",
    "- https://www.kaggle.com/datasets/apollo2506/facial-recognition-dataset?select=Testing\n",
    "\n",
    "**Data Set Description:**\n",
    "\n",
    "This dataset contains folders pertaining to different expressions of the human face, such as Surprise, Anger, Happiness, Sad, Neutral, Fear. The training set consists of 28,079 samples in total with the testing set consisting of 7,178 samples in total. The data consists of 48x48 pixel grayscale images of faces. The faces have been automatically registered so that the face is more or less centered and occupies about the same amount of space in each image. The purpose of this project is to analyze facial images to predict emotion.\n",
    "\n",
    "**Number of Attributes:** 2304\n",
    "\n",
    "**Attribute Description:** Each attribute is a grayscale value of each of the 48 x 48 pixels.\n",
    "\n",
    "**Data Source:** Kaggle"
   ]
  },
  {
   "cell_type": "code",
   "execution_count": null,
   "metadata": {},
   "outputs": [],
   "source": [
    "# SETUP\n",
    "\n",
    "import tensorflow as tf"
   ]
  },
  {
   "attachments": {},
   "cell_type": "markdown",
   "metadata": {},
   "source": [
    "### Data Cleaning"
   ]
  },
  {
   "cell_type": "code",
   "execution_count": null,
   "metadata": {},
   "outputs": [],
   "source": [
    "# insert code"
   ]
  },
  {
   "attachments": {},
   "cell_type": "markdown",
   "metadata": {},
   "source": []
  }
 ],
 "metadata": {
  "language_info": {
   "name": "python"
  },
  "orig_nbformat": 4
 },
 "nbformat": 4,
 "nbformat_minor": 2
}
