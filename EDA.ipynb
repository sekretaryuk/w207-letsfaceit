{
 "cells": [
  {
   "cell_type": "markdown",
   "metadata": {},
   "source": [
    "# Let's Face It \n",
    "\n",
    "**Team Members:** Georgiy Sekretaryuk, Rafael Arbex-Murut, Yeshwanth Somu\n",
    "\n",
    "**Data Set:** Facial Recognition Dataset\n",
    "- https://www.kaggle.com/datasets/apollo2506/facial-recognition-dataset?select=Testing\n",
    "\n",
    "**Data Set Description:**\n",
    "\n",
    "This dataset contains folders pertaining to different expressions of the human face, such as Surprise, Anger, Happiness, Sad, Neutral, Fear. The training set consists of 28,079 samples in total with the testing set consisting of 7,178 samples in total. The data consists of 48x48 pixel grayscale images of faces. The faces have been automatically registered so that the face is more or less centered and occupies about the same amount of space in each image. The purpose of this project is to analyze facial images to predict emotion.\n",
    "\n",
    "**Number of Attributes:** 2304\n",
    "\n",
    "**Attribute Description:** Each attribute is a grayscale value of each of the 48 x 48 pixels.\n",
    "\n",
    "**Data Source:** Kaggle"
   ]
  },
  {
   "cell_type": "code",
   "execution_count": 1,
   "metadata": {},
   "outputs": [
    {
     "name": "stderr",
     "output_type": "stream",
     "text": [
      "2023-07-17 17:18:48.802949: I tensorflow/tsl/cuda/cudart_stub.cc:28] Could not find cuda drivers on your machine, GPU will not be used.\n",
      "2023-07-17 17:18:48.838544: I tensorflow/tsl/cuda/cudart_stub.cc:28] Could not find cuda drivers on your machine, GPU will not be used.\n",
      "2023-07-17 17:18:48.839195: I tensorflow/core/platform/cpu_feature_guard.cc:182] This TensorFlow binary is optimized to use available CPU instructions in performance-critical operations.\n",
      "To enable the following instructions: AVX2 FMA, in other operations, rebuild TensorFlow with the appropriate compiler flags.\n",
      "2023-07-17 17:18:49.495965: W tensorflow/compiler/tf2tensorrt/utils/py_utils.cc:38] TF-TRT Warning: Could not find TensorRT\n"
     ]
    }
   ],
   "source": [
    "# SETUP\n",
    "\n",
    "import os\n",
    "from PIL import Image\n",
    "import numpy as np\n",
    "from matplotlib import pyplot as plt\n",
    "import pandas as pd\n",
    "import seaborn as sns  # for nicer plots\n",
    "sns.set(style=\"darkgrid\")  # default style\n",
    "import tensorflow as tf\n",
    "from tensorflow import keras\n",
    "from keras import metrics\n",
    "from sklearn import metrics\n",
    "tf.get_logger().setLevel('INFO')"
   ]
  },
  {
   "cell_type": "markdown",
   "metadata": {},
   "source": [
    "### Loading Data"
   ]
  },
  {
   "cell_type": "code",
   "execution_count": 2,
   "metadata": {},
   "outputs": [
    {
     "name": "stdout",
     "output_type": "stream",
     "text": [
      "data/Testing/Testing/.DS_Store is not a folder.\n"
     ]
    }
   ],
   "source": [
    "# Function to load images from a folder\n",
    "def load_images_from_folder(folder_path, label_mapping):\n",
    "    images = []\n",
    "    labels = []\n",
    "\n",
    "    #load each image file\n",
    "    for filename in os.listdir(folder_path):\n",
    "        img = Image.open(os.path.join(folder_path, filename))\n",
    "\n",
    "        #check if loaded properly\n",
    "        if img is not None:\n",
    "\n",
    "            images.append(np.array(img)) #turn image to array\n",
    "            # print(folder_path)\n",
    "            folder_path = folder_path.replace(\"\\\\\", \"/\")\n",
    "            folder_name = folder_path.split(\"/\")[-1]  # Extract folder name from path\n",
    "            # print(folder_name)\n",
    "            label = label_mapping[folder_name]  # Assign label based on folder name\n",
    "            labels.append(label)  # Assign the folder index as the label\n",
    "\n",
    "    return images, labels\n",
    "\n",
    "def load_dataset(data_folder, return_label_names=False):\n",
    "    X = []\n",
    "    Y = []\n",
    "\n",
    "    label_mapping = {}  # Dictionary to map folder names to label values\n",
    "    label_counter = 0\n",
    "\n",
    "    #cycle through each folder, get folder path\n",
    "    for folder_name in os.listdir(data_folder):\n",
    "        folder_path = os.path.join(data_folder, folder_name)\n",
    "        # print(\"Load_dataset is looping through\", folder_path)\n",
    "\n",
    "        #check if a folder or a stray file\n",
    "        if os.path.isdir(folder_path):\n",
    "\n",
    "            #count folders to assign index\n",
    "            label_mapping[folder_name] = label_counter\n",
    "            label_counter += 1\n",
    "\n",
    "            #load images and labels, add to X/Y list\n",
    "            images, labels = load_images_from_folder(folder_path, label_mapping)\n",
    "            X.extend(images)\n",
    "            Y.extend(labels)\n",
    "    \n",
    "        else:\n",
    "            print(f\"{folder_path} is not a folder.\")\n",
    "\n",
    "    #pull out label names\n",
    "    label_names = list(label_mapping.keys())\n",
    "\n",
    "    if return_label_names:\n",
    "        label_names = list(label_mapping.keys())\n",
    "        return np.array(X), np.array(Y), label_names\n",
    "    else:\n",
    "        return np.array(X), np.array(Y)\n",
    "\n",
    "# Load the training dataset\n",
    "train_folder = 'data/Training/Training'\n",
    "X_train, Y_train, label_names = load_dataset(train_folder, return_label_names=True)\n",
    "\n",
    "# Load the testing dataset\n",
    "test_folder = 'data/Testing/Testing'\n",
    "X_test, Y_test, = load_dataset(test_folder)\n",
    "\n",
    "# Flatten the label vectors\n",
    "Y_train = Y_train.flatten()\n",
    "Y_test = Y_test.flatten()\n"
   ]
  },
  {
   "cell_type": "code",
   "execution_count": 3,
   "metadata": {},
   "outputs": [
    {
     "name": "stdout",
     "output_type": "stream",
     "text": [
      "X_train.shape: (28273, 48, 48)\n",
      "Y_train.shape: (28273,)\n",
      "X_test.shape: (7067, 48, 48)\n",
      "Y_test.shape: (7067,)\n",
      "['Happy', 'Suprise', 'Angry', 'Neutral', 'Fear', 'Sad']\n",
      "[0 0 0 ... 5 5 5]\n"
     ]
    }
   ],
   "source": [
    "print(\"X_train.shape:\", X_train.shape)\n",
    "print(\"Y_train.shape:\", Y_train.shape)\n",
    "print(\"X_test.shape:\", X_test.shape)\n",
    "print(\"Y_test.shape:\", Y_test.shape)\n",
    "\n",
    "print(label_names)\n",
    "\n",
    "print(Y_train)"
   ]
  },
  {
   "cell_type": "code",
   "execution_count": 5,
   "metadata": {},
   "outputs": [
    {
     "data": {
      "text/plain": [
       "7215"
      ]
     },
     "execution_count": 5,
     "metadata": {},
     "output_type": "execute_result"
    }
   ],
   "source": [
    "len(Y_train[Y_train == 0])"
   ]
  },
  {
   "cell_type": "code",
   "execution_count": null,
   "metadata": {},
   "outputs": [],
   "source": [
    "fig, axs = plt.subplots(1)\n",
    "axs.hist(Y_train, bins=np.arange(2, 12)/2)\n",
    "plt.xticks(range(len(label_names)), labels=label_names)"
   ]
  },
  {
   "cell_type": "code",
   "execution_count": 8,
   "metadata": {},
   "outputs": [
    {
     "data": {
      "image/png": "[encoded data removed]",
      "text/plain": [
       "<Figure size 640x480 with 1 Axes>"
      ]
     },
     "metadata": {},
     "output_type": "display_data"
    }
   ],
   "source": [
    "n = [len(Y_train[Y_train == 0]), len(Y_train[Y_train == 1]), len(Y_train[Y_train == 2]), len(Y_train[Y_train == 3]), len(Y_train[Y_train == 4]), len(Y_train[Y_train == 5])]\n",
    "plt.bar(label_names, n)\n",
    "plt.xlabel(\"Emotion\")\n",
    "plt.ylabel (\"Number of Occurences\")\n",
    "plt.show()"
   ]
  },
  {
   "cell_type": "code",
   "execution_count": null,
   "metadata": {},
   "outputs": [],
   "source": [
    "s = pd.Series(Y_train).replace({0:\"Happy\", 1:\"Surprise\", 2:\"Angry\", 3:\"Neutral\", 4:\"Fear\", 5:\"Sad\"}).value_counts()\n",
    "plt.hist(s)"
   ]
  },
  {
   "cell_type": "code",
   "execution_count": null,
   "metadata": {},
   "outputs": [],
   "source": [
    "X_train = X_train / 255\n",
    "X_test = X_test / 255"
   ]
  },
  {
   "cell_type": "markdown",
   "metadata": {},
   "source": [
    "### Visualizing Images in Dataset"
   ]
  },
  {
   "cell_type": "code",
   "execution_count": null,
   "metadata": {},
   "outputs": [],
   "source": [
    "#plot 5 images for each label\n",
    "\n",
    "num_images_to_show = 5\n",
    "\n",
    "fig, axs = plt.subplots(len(label_names), ncols=num_images_to_show, figsize=(10, 12))\n",
    "for label in range(len(label_names)):\n",
    "    counter = 0 \n",
    "    for i in range(len(Y_train)):\n",
    "        if Y_train[i] == label:\n",
    "            image = X_train[i]\n",
    "            axs[label, counter].imshow(image, cmap='gray')\n",
    "            axs[label, counter].set_title(label_names[label])\n",
    "            axs[label, counter].axis('off')\n",
    "            counter += 1\n",
    "\n",
    "            #if loaded 5 images per row/label, break\n",
    "            if counter == 5:  \n",
    "                break\n",
    "plt.show()"
   ]
  },
  {
   "cell_type": "markdown",
   "metadata": {},
   "source": [
    "### Building the Model"
   ]
  },
  {
   "cell_type": "code",
   "execution_count": null,
   "metadata": {},
   "outputs": [],
   "source": [
    "# Apply random shufflying to training examples.\n",
    "np.random.seed(0)\n",
    "indices = np.arange(X_train.shape[0])\n",
    "shuffled_indices = np.random.permutation(indices)\n",
    "X_train = X_train[shuffled_indices]\n",
    "Y_train = Y_train[shuffled_indices]"
   ]
  },
  {
   "cell_type": "code",
   "execution_count": null,
   "metadata": {},
   "outputs": [],
   "source": [
    "def build_model(n_classes, learning_rate=0.01):\n",
    "  \"\"\"Build a multi-class logistic regression model using Keras.\n",
    "\n",
    "  Args:\n",
    "    n_classes: Number of classes in the dataset\n",
    "    learning_rate: The desired learning rate for SGD.\n",
    "\n",
    "  Returns:\n",
    "    model: A tf.keras model (graph).\n",
    "  \"\"\"\n",
    "  tf.keras.backend.clear_session()\n",
    "  np.random.seed(0)\n",
    "  tf.random.set_seed(0)\n",
    "\n",
    "  model = keras.Sequential()\n",
    "  model.add(keras.layers.Flatten())\n",
    "  model.add(keras.layers.Dense(\n",
    "      units=n_classes,\n",
    "      activation='softmax'\n",
    "  ))\n",
    "\n",
    "  optimizer = tf.keras.optimizers.SGD(learning_rate=learning_rate)\n",
    "    \n",
    "  model.compile(loss=tf.keras.losses.sparse_categorical_crossentropy, \n",
    "                optimizer=optimizer, \n",
    "                metrics=['accuracy'])\n",
    "  return model"
   ]
  },
  {
   "cell_type": "code",
   "execution_count": null,
   "metadata": {},
   "outputs": [],
   "source": [
    "model = build_model(len(label_names), 0.0001)\n",
    "\n",
    "history = model.fit(\n",
    "  x = X_train,\n",
    "  y = Y_train,\n",
    "  epochs=10,\n",
    "  batch_size=64,\n",
    "  validation_split=0.1,\n",
    "  verbose=1)\n",
    "\n",
    "history = pd.DataFrame(history.history)\n",
    "display(history)"
   ]
  },
  {
   "cell_type": "code",
   "execution_count": null,
   "metadata": {},
   "outputs": [],
   "source": [
    "test_predictions = np.argmax(model.predict(X_test), axis=-1)\n",
    "print(test_predictions)"
   ]
  },
  {
   "cell_type": "code",
   "execution_count": null,
   "metadata": {},
   "outputs": [],
   "source": [
    "# Create a confusion matrix as a 2D array.\n",
    "confusion_matrix = tf.math.confusion_matrix(Y_test, test_predictions)\n",
    "\n",
    "# Use a heatmap plot to display it.\n",
    "ax = sns.heatmap(confusion_matrix, annot=True, fmt='.4g', cmap='Blues',\n",
    "                 xticklabels=label_names, yticklabels=label_names, cbar=False)\n",
    "\n",
    "# Add axis labels.\n",
    "ax.set(xlabel='Predicted Label', ylabel='True Label')\n",
    "plt.show()\n",
    "\n",
    "print(metrics.classification_report(Y_test, test_predictions, digits=3))"
   ]
  },
  {
   "cell_type": "markdown",
   "metadata": {},
   "source": [
    "## Pixel Analysis"
   ]
  },
  {
   "cell_type": "code",
   "execution_count": null,
   "metadata": {},
   "outputs": [],
   "source": [
    "first_coord = 24\n",
    "second_coord = 24\n",
    "\n",
    "angry_faces = X_train[np.where(Y_train == 0)]\n",
    "angry_center = []\n",
    "for i in range(0,len(angry_faces)): angry_center.append(angry_faces[i][first_coord,second_coord])\n",
    "print(\"Mean of all angry images' center pixel is: \", np.mean(angry_center))\n",
    "print(\"Standard Deviation of all sneaker images' center pixel is: \", np.std(angry_center))\n",
    "print(\"\\n\")\n",
    "\n",
    "\n",
    "fear_faces = X_train[np.where(Y_train == 1)]\n",
    "fear_center = []\n",
    "for i in range(0,len(fear_faces)): fear_center.append(fear_faces[i][first_coord,second_coord])\n",
    "print(\"Mean of all fear images' center pixel is: \", np.mean(fear_center))\n",
    "print(\"Standard Deviation of all fear images' center pixel is: \", np.std(fear_center))\n",
    "print(\"\\n\")\n",
    "\n",
    "happy_faces = X_train[np.where(Y_train == 2)]\n",
    "happy_center = []\n",
    "for i in range(0,len(happy_faces)): happy_center.append(happy_faces[i][first_coord,second_coord])\n",
    "print(\"Mean of all happy images' center pixel is: \", np.mean(happy_center))\n",
    "print(\"Standard Deviation of all happy images' center pixel is: \", np.std(happy_center))\n",
    "print(\"\\n\")\n",
    "\n",
    "neutral_faces = X_train[np.where(Y_train == 3)]\n",
    "neutral_center = []\n",
    "for i in range(0,len(neutral_faces)): neutral_center.append(neutral_faces[i][first_coord,second_coord])\n",
    "print(\"Mean of all neutral images' center pixel is: \", np.mean(neutral_center))\n",
    "print(\"Standard Deviation of all neutral images' center pixel is: \", np.std(neutral_center))\n",
    "print(\"\\n\")\n",
    "\n",
    "sad_faces = X_train[np.where(Y_train == 4)]\n",
    "sad_center = []\n",
    "for i in range(0,len(sad_faces)): sad_center.append(sad_faces[i][first_coord,second_coord])\n",
    "print(\"Mean of all sad images' center pixel is: \", np.mean(sad_center))\n",
    "print(\"Standard Deviation of all sad images' center pixel is: \", np.std(sad_center))\n",
    "print(\"\\n\")\n",
    "\n",
    "surprise_faces = X_train[np.where(Y_train == 5)]\n",
    "surprise_center = []\n",
    "for i in range(0,len(surprise_faces)): surprise_center.append(surprise_faces[i][first_coord,second_coord])\n",
    "print(\"Mean of all suprise images' center pixel is: \", np.mean(surprise_center))\n",
    "print(\"Standard Deviation of all suprise images' center pixel is: \", np.std(surprise_center))\n",
    "print(\"\\n\")"
   ]
  },
  {
   "cell_type": "code",
   "execution_count": null,
   "metadata": {},
   "outputs": [],
   "source": [
    "first_coord = 12\n",
    "second_coord = 30\n",
    "\n",
    "angry_faces = X_train[np.where(Y_train == 0)]\n",
    "angry_center = []\n",
    "for i in range(0,len(angry_faces)): angry_center.append(angry_faces[i][first_coord,second_coord])\n",
    "print(\"Mean of all angry images' center pixel is: \", np.mean(angry_center))\n",
    "print(\"Standard Deviation of all sneaker images' center pixel is: \", np.std(angry_center))\n",
    "print(\"\\n\")\n",
    "\n",
    "\n",
    "fear_faces = X_train[np.where(Y_train == 1)]\n",
    "fear_center = []\n",
    "for i in range(0,len(fear_faces)): fear_center.append(fear_faces[i][first_coord,second_coord])\n",
    "print(\"Mean of all fear images' center pixel is: \", np.mean(fear_center))\n",
    "print(\"Standard Deviation of all fear images' center pixel is: \", np.std(fear_center))\n",
    "print(\"\\n\")\n",
    "\n",
    "happy_faces = X_train[np.where(Y_train == 2)]\n",
    "happy_center = []\n",
    "for i in range(0,len(happy_faces)): happy_center.append(happy_faces[i][first_coord,second_coord])\n",
    "print(\"Mean of all happy images' center pixel is: \", np.mean(happy_center))\n",
    "print(\"Standard Deviation of all happy images' center pixel is: \", np.std(happy_center))\n",
    "print(\"\\n\")\n",
    "\n",
    "neutral_faces = X_train[np.where(Y_train == 3)]\n",
    "neutral_center = []\n",
    "for i in range(0,len(neutral_faces)): neutral_center.append(neutral_faces[i][first_coord,second_coord])\n",
    "print(\"Mean of all neutral images' center pixel is: \", np.mean(neutral_center))\n",
    "print(\"Standard Deviation of all neutral images' center pixel is: \", np.std(neutral_center))\n",
    "print(\"\\n\")\n",
    "\n",
    "sad_faces = X_train[np.where(Y_train == 4)]\n",
    "sad_center = []\n",
    "for i in range(0,len(sad_faces)): sad_center.append(sad_faces[i][first_coord,second_coord])\n",
    "print(\"Mean of all sad images' center pixel is: \", np.mean(sad_center))\n",
    "print(\"Standard Deviation of all sad images' center pixel is: \", np.std(sad_center))\n",
    "print(\"\\n\")\n",
    "\n",
    "surprise_faces = X_train[np.where(Y_train == 5)]\n",
    "surprise_center = []\n",
    "for i in range(0,len(surprise_faces)): surprise_center.append(surprise_faces[i][first_coord,second_coord])\n",
    "print(\"Mean of all suprise images' center pixel is: \", np.mean(surprise_center))\n",
    "print(\"Standard Deviation of all suprise images' center pixel is: \", np.std(surprise_center))\n",
    "print(\"\\n\")"
   ]
  },
  {
   "cell_type": "code",
   "execution_count": null,
   "metadata": {},
   "outputs": [],
   "source": [
    "label_names"
   ]
  },
  {
   "cell_type": "markdown",
   "metadata": {},
   "source": []
  }
 ],
 "metadata": {
  "kernelspec": {
   "display_name": "Python 3 (ipykernel)",
   "language": "python",
   "name": "python3"
  },
  "language_info": {
   "codemirror_mode": {
    "name": "ipython",
    "version": 3
   },
   "file_extension": ".py",
   "mimetype": "text/x-python",
   "name": "python",
   "nbconvert_exporter": "python",
   "pygments_lexer": "ipython3",
   "version": "3.9.13"
  }
 },
 "nbformat": 4,
 "nbformat_minor": 4
}
